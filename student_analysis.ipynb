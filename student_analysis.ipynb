{
 "cells": [
  {
   "cell_type": "markdown",
   "id": "b67133d5",
   "metadata": {},
   "source": [
    "# 📊 Student Performance Analysis\n",
    "\n",
    "This notebook contains an exploratory data analysis (EDA) of student performance data, focusing on the influence of socio-economic and parental factors on educational outcomes."
   ]
  },
  {
   "cell_type": "code",
   "execution_count": null,
   "id": "eb170b39",
   "metadata": {},
   "outputs": [],
   "source": [
    "import pandas as pd\n",
    "import seaborn as sns\n",
    "import matplotlib.pyplot as plt\n",
    "import numpy as np\n",
    "\n",
    "%matplotlib inline"
   ]
  },
  {
   "cell_type": "markdown",
   "id": "f37db1cc",
   "metadata": {},
   "source": [
    "## 🔍 Load Dataset"
   ]
  },
  {
   "cell_type": "code",
   "execution_count": null,
   "id": "d092d7c7",
   "metadata": {},
   "outputs": [],
   "source": [
    "df = pd.read_csv('data/student-mat.csv')\n",
    "df.head()"
   ]
  },
  {
   "cell_type": "markdown",
   "id": "b2963499",
   "metadata": {},
   "source": [
    "## 📈 Dataset Overview"
   ]
  },
  {
   "cell_type": "code",
   "execution_count": null,
   "id": "52be6704",
   "metadata": {},
   "outputs": [],
   "source": [
    "df.info()\n",
    "df.describe()"
   ]
  },
  {
   "cell_type": "markdown",
   "id": "463db116",
   "metadata": {},
   "source": [
    "## 🔗 Correlation Matrix"
   ]
  },
  {
   "cell_type": "code",
   "execution_count": null,
   "id": "48cf77dc",
   "metadata": {},
   "outputs": [],
   "source": [
    "plt.figure(figsize=(12, 8))\n",
    "sns.heatmap(df.corr(numeric_only=True), annot=True, cmap='coolwarm', fmt='.2f')\n",
    "plt.title('Correlation Matrix')\n",
    "plt.show()"
   ]
  },
  {
   "cell_type": "markdown",
   "id": "dab8cd9e",
   "metadata": {},
   "source": [
    "## 🧠 Average Grades by Parental Education"
   ]
  },
  {
   "cell_type": "code",
   "execution_count": null,
   "id": "50c47092",
   "metadata": {},
   "outputs": [],
   "source": [
    "if 'Medu' in df.columns and 'Fedu' in df.columns:\n",
    "    df['avg_parent_edu'] = (df['Medu'] + df['Fedu']) / 2\n",
    "if 'G1' in df.columns and 'G3' in df.columns:\n",
    "    df['avg_grade'] = (df['G1'] + df['G3']) / 2\n",
    "\n",
    "sns.boxplot(x='avg_parent_edu', y='avg_grade', data=df)\n",
    "plt.title('Average Grade by Parental Education Level')\n",
    "plt.xlabel('Average Parental Education (0-4)')\n",
    "plt.ylabel('Average Grade')\n",
    "plt.show()"
   ]
  },
  {
   "cell_type": "markdown",
   "id": "acb9ec14",
   "metadata": {},
   "source": [
    "## 🚀 Future Work\n",
    "- Apply classification models to predict student performance.\n",
    "- Analyze differences between schools.\n",
    "- Visualize the impact of absences or alcohol consumption.\n",
    "\n",
    "---\n",
    "\n",
    "*Author: Anthiha*"
   ]
  }
 ],
 "metadata": {},
 "nbformat": 4,
 "nbformat_minor": 5
}
{
 "cells": [
  {
   "cell_type": "code",
   "execution_count": null,
   "id": "1ec07cbc-67aa-4912-bdfa-6471de042eae",
   "metadata": {},
   "outputs": [],
   "source": [
    "df = pd.read_csv('data/student-mat.csv')\n",
    "df.head()"
   ]
  },
  {
   "cell_type": "code",
   "execution_count": null,
   "id": "b2bdeced-5f26-42a7-ad03-c3aa52f93e4f",
   "metadata": {},
   "outputs": [],
   "source": [
    "import pandas as pd\n",
    "import seaborn as sns\n",
    "import matplotlib.pyplot as plt\n",
    "import numpy as np\n",
    "\n",
    "%matplotlib inline"
   ]
  },
  {
   "cell_type": "code",
   "execution_count": null,
   "id": "38e5016a-0b5e-4c30-9327-8e2553ee9cfb",
   "metadata": {},
   "outputs": [],
   "source": [
    "df.info()\n",
    "df.describe()\n",
    "     "
   ]
  },
  {
   "cell_type": "code",
   "execution_count": null,
   "id": "a056f84a-6b75-4d12-849a-ca8fa5e698d1",
   "metadata": {},
   "outputs": [],
   "source": [
    "plt.figure(figsize=(12, 8))\n",
    "sns.heatmap(df.corr(numeric_only=True), annot=True, cmap='coolwarm', fmt='.2f')\n",
    "plt.title('Correlation Matrix')\n",
    "plt.show()\n",
    "     "
   ]
  },
  {
   "cell_type": "code",
   "execution_count": null,
   "id": "712e4945-a16f-4b7b-8c7e-e4ca03156cd6",
   "metadata": {},
   "outputs": [],
   "source": [
    "if 'Medu' in df.columns and 'Fedu' in df.columns:\n",
    "    df['avg_parent_edu'] = (df['Medu'] + df['Fedu']) / 2\n",
    "if 'G1' in df.columns and 'G3' in df.columns:\n",
    "    df['avg_grade'] = (df['G1'] + df['G3']) / 2\n",
    "\n",
    "sns.boxplot(x='avg_parent_edu', y='avg_grade', data=df)\n",
    "plt.title('Average Grade by Parental Education Level')\n",
    "plt.xlabel('Average Parental Education (0-4)')\n",
    "plt.ylabel('Average Grade')\n",
    "plt.show()\n",
    "     "
   ]
  }
 ],
 "metadata": {
  "kernelspec": {
   "display_name": "Python 3 (ipykernel)",
   "language": "python",
   "name": "python3"
  },
  "language_info": {
   "codemirror_mode": {
    "name": "ipython",
    "version": 3
   },
   "file_extension": ".py",
   "mimetype": "text/x-python",
   "name": "python",
   "nbconvert_exporter": "python",
   "pygments_lexer": "ipython3",
   "version": "3.12.4"
  }
 },
 "nbformat": 4,
 "nbformat_minor": 5
}
